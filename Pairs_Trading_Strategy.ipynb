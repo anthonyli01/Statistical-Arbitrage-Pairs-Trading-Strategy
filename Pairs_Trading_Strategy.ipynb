{
  "nbformat": 4,
  "nbformat_minor": 0,
  "metadata": {
    "colab": {
      "provenance": []
    },
    "kernelspec": {
      "name": "python3",
      "display_name": "Python 3"
    },
    "language_info": {
      "name": "python"
    }
  },
  "cells": [
    {
      "cell_type": "markdown",
      "source": [
        "<h1><center> Pairs Trading Strategy</center></h1>\n",
        "<h4><center> Anthony Li </center></h4>\n",
        "<h4><center> August 2023 </center></h4>"
      ],
      "metadata": {
        "id": "Udja0lUJdWyO"
      }
    },
    {
      "cell_type": "markdown",
      "source": [
        "## Introduction\n",
        "Systematic Investment Strategies, often referred to as systematic trading or quantitative investing, are investment approaches that rely on data-driven, rule-based methodologies to make trading decisions. These strategies aim to remove human emotion and subjectivity from the investment process, instead relying on algorithms and statistical models to guide decision-making. Here's a summary of key points regarding systematic investment strategies:\n",
        "\n",
        "A pairs trading strategy is a market-neutral trading strategy that involves identifying two closely related assets, such as two stocks, whose prices move together. Once these pairs of stocks are identified, the idea is to trade any divergence in the prices in hope that the prices will converge once again in the near future. This usually involves buying the 'cheaper' asset and shorting the 'expensive' asset.\n",
        "\n",
        "In this project, we will build a basic pairs trading strategy and follow up by exploring different ways to improve on this. We will analyse the performance of these strategies and discuss any assumptions made when backtesting. The project will involve difference based approach, cointegration, kalman filters, copulas, and PCA."
      ],
      "metadata": {
        "id": "m0byyQSZeNYK"
      }
    },
    {
      "cell_type": "markdown",
      "source": [
        "## Table of Contents\n",
        "- [Libraries and Preprocessing Data](#Libraries-and-Preprocessing-Data)\n",
        "- [1. Distance Based Pairs Trading Strategy](#section-1)\n",
        "  - [Subsection 1.1](#subsection-1-1)\n",
        "  - [Subsection 1.2](#subsection-1-2)\n",
        "- [2. Cointegration Approach: Basic](#section-2)\n",
        "  - [2.1 What is cointegration?](#subsection-2-1)\n",
        "  - [2.2 Identifying Pairs: Engle and Granger Test for Cointegration](#subsection-2-1)\n",
        "  - [2.3 Trading Strategy and Returns Calculation](#subsection-2-1)\n",
        "  - [2.4 Performance and Analysis](#subsection-2-1)\n",
        "\n",
        "- [3. Cointegration Approach: Annual Cointegration and Stop-Loss Implementation](#section-3)\n",
        "  - [3.1 Identifying Cointegrating Pairs Annually](#subsection-3-1)\n",
        "  - [3.2 Calculating Strategy Returns and Implementing a Stop-loss](#subsection-3-2)\n",
        "  - [3.3 Performance and Analysis](#subsection-3-3)\n",
        "- [4. Cointegration Approach: Adding a Profit Exit Strategy](#section-4)\n",
        "  - [Subsection 2.1](#subsection-4-1)\n",
        "- [5. Cointegration Approach: Relaxing Assumption of Daily Rebalancing](#section-5)\n",
        "  - [Subsection 2.1](#subsection-5-1)\n",
        "- [6. Kalman Filter](#section-6)\n",
        "  - [Subsection 2.1](#subsection-6-1)\n",
        "- [7. Copula Approach](#section-7)\n",
        "  - [Subsection 2.1](#subsection-7-1)\n",
        "- [8. PCA Approach](#section-8)\n",
        "  - [Subsection 2.1](#subsection-8-1)\n",
        "\n"
      ],
      "metadata": {
        "id": "08qcGc8XkdRp"
      }
    },
    {
      "cell_type": "markdown",
      "source": [
        "## Libraries and Preprocessing Data\n",
        "Before we begin the project, we will import all the relevant libraries and data we will be using in the project."
      ],
      "metadata": {
        "id": "lIk18Oxfnybe"
      }
    },
    {
      "cell_type": "code",
      "source": [
        "# Importing Libraries\n",
        "import statsmodels.api as sm\n",
        "import pandas as pd\n",
        "import numpy as np\n",
        "import yfinance as yf\n",
        "from datetime import datetime, timedelta\n",
        "import matplotlib.pyplot as plt\n",
        "from matplotlib.dates import YearLocator, DateFormatter"
      ],
      "metadata": {
        "id": "VFy3O-qHnx78"
      },
      "execution_count": null,
      "outputs": []
    },
    {
      "cell_type": "code",
      "execution_count": 3,
      "metadata": {
        "colab": {
          "base_uri": "https://localhost:8080/"
        },
        "id": "cE3buKpNcFwC",
        "outputId": "8710227d-8f98-4d03-fe8c-02be3eb57dbd"
      },
      "outputs": [
        {
          "output_type": "stream",
          "name": "stdout",
          "text": [
            "Mounted at /content/gdrive\n"
          ]
        }
      ],
      "source": [
        "# Connecting Google Collaboratory to Google Drive folder\n",
        "from google.colab import drive\n",
        "drive.mount('/content/gdrive')\n",
        "\n",
        "import os\n",
        "os.chdir(\"./gdrive/My Drive/Quantitative Finance Projects/Statistical Arbitrage Trading Strategy/\")"
      ]
    },
    {
      "cell_type": "code",
      "source": [
        "# Importing .csv of the prices of all stocks in the S&P500\n",
        "Prices = pd.read_csv(\"price.csv\", index_col=0)\n",
        "\n",
        "# For simplicity, dropping all stocks that have any NaN\n",
        "Prices =Prices.dropna(axis=1)\n",
        "\n",
        "Prices.head()"
      ],
      "metadata": {
        "id": "HtX2Bxs6rHaj"
      },
      "execution_count": null,
      "outputs": []
    },
    {
      "cell_type": "code",
      "source": [
        "# Define the S&P 500 symbol\n",
        "sp500_symbol = \"^GSPC\"\n",
        "\n",
        "# Define the start and end dates\n",
        "start_date = \"2011=0-01-03\"\n",
        "end_date = \"2019-12-31\"\n",
        "\n",
        "# Fetch historical data for the S&P 500 index\n",
        "sp500_data = yf.download(sp500_symbol, start=start_date, end=end_date)"
      ],
      "metadata": {
        "id": "u1QU-I2johUb"
      },
      "execution_count": null,
      "outputs": []
    },
    {
      "cell_type": "code",
      "source": [
        "sp500_returns = sp500_data['Adj Close'].pct_change()"
      ],
      "metadata": {
        "id": "Q2GiC9RJotY6"
      },
      "execution_count": null,
      "outputs": []
    },
    {
      "cell_type": "markdown",
      "source": [
        "## 1 Distanced Based Pairs Trading Strategy\n"
      ],
      "metadata": {
        "id": "urxrGv6Apnek"
      }
    },
    {
      "cell_type": "markdown",
      "source": [
        "## 2 Cointegration Approach: Basic"
      ],
      "metadata": {
        "id": "alyKpgvXiiqE"
      }
    },
    {
      "cell_type": "markdown",
      "source": [
        "### 2.1 What is conintegration?\n",
        "Cointegration is a statistical concept used in time series analysis and econometrics. It refers to the long-term relationship or equilibrium between two or more non-stationary time series variables. In simpler terms, cointegration helps us understand how different variables are related over time, even if they individually exhibit trends or fluctuations.\n",
        "\n",
        "Here are the key points to understand about cointegration:\n",
        "\n",
        "1. **Non-stationarity:** Time series data often exhibit trends, seasonality, or other forms of non-stationarity, meaning their statistical properties change over time. Non-stationary data can make it challenging to establish meaningful relationships.\n",
        "\n",
        "2. **Cointegration tests:** Cointegration tests are used to determine whether a set of non-stationary time series variables share a long-term relationship. The most commonly used cointegration test is the Engle-Granger test or the Johansen test.\n",
        "\n",
        "3. **Long-term equilibrium:** Cointegration implies that, despite short-term fluctuations, the variables move together in the long run. In other words, there is a stable, linear combination of these variables that remains constant over time. This relationship is often represented as an error correction model (ECM).\n",
        "\n",
        "Trading strategies: Cointegration can also be used in pairs trading strategies. Traders look for pairs of assets that are cointegrated, meaning they tend to move together in the long run, and then create trading strategies that capitalize on short-term deviations from this relationship.\n",
        "\n",
        "Cointegration is a valuable tool for understanding and modeling complex relationships between time series data. It helps researchers and analysts identify meaningful connections between variables, even when those variables exhibit non-stationarity in their raw form."
      ],
      "metadata": {
        "id": "cVadKrIwsa-X"
      }
    },
    {
      "cell_type": "markdown",
      "source": [
        "### 2.2 Identifying Pairs: Engle and Granger Test for Cointegration\n",
        "The Engle-Granger test for cointegration is a two-step procedure used to test whether two non-stationary time series variables are cointegrated, meaning they have a long-term, stable relationship. Here are the detailed steps for conducting the Engle-Granger test:\n",
        "\n",
        "**Step 1: Individual Time Series Unit Root Tests**\n",
        "The first step involves conducting unit root tests on each of the individual time series variables to determine if they are stationary. Common unit root tests used for this purpose include the Augmented Dickey-Fuller (ADF) test or the Phillips-Perron test. The null hypothesis of these tests is that the series has a unit root (it is non-stationary). Since stock prices are known to be non-stationary, we will skip this step and focus solely on the stationarity of the price difference instead.\n",
        "\n",
        "**Step 2: Cointegration Test**\n",
        "If any of the original time series are found to be non-stationary, we can move onto the cointegration test.\n",
        "\n",
        "- **Regress One Variable on the Other:**\n",
        "  - Choose one of the non-stationary variables to be the dependent variable, and the other to be the independent variable.\n",
        "  - Estimate a linear regression model (with no intercept): $Y_1 = \\beta Y_2 + \\epsilon$ where the intercept, $\\beta$, is the coefficient of $Y_2$, and $\\epsilon$ is the error term. Note that the error term is also the price difference.\n",
        "- **Check Residuals for Stationarity:**\n",
        "  - Extract the estimate residuals, $\\epsilon = Y_1 - \\hat{Y_1}$\n",
        "  - Conduct a unit root test on the residuals (e.g., ADF test) to determine if the price difference is stationary\n",
        "  - The null hypothesis is that the residuals have a unit root (non-stationary), and the alternative hypothesis is that they are stationary\n",
        "- **Interpret the Cointegration Test:**\n",
        "  - If the test on the residuals rejects the null hypothesis of non-stationarity, this suggests cointegration between $Y_1$ and $Y_2$.\n",
        "  - This implies that the price difference between the two stocks should be mean reverting.\n",
        "\n",
        "\n",
        "#### Pearson Correlation Coefficient\n",
        "Assuming we have prices for 500 stocks, there are 124,750 different pairs to test for cointegration. Identifying pairs by cointegrating all possible combinations is extremely computationally expensive and many of these combinations will not cointegrate. To reduce the number of computations, we have required that the correlation between the asset returns is $>0.6$ before we test for cointegration.\n",
        "\n",
        "We decided to use asset returns instead of asset prices as returns are stationary. Correlation in non-stationary series can be spurious and lead to false conclusions.\n",
        "\n",
        "However, cointegrated stocks do not necessarily have highly correlated returns. In fact, the relationship between cointegrated stocks is more nuanced than simple correlation. Cointegration implies a long-term, stable relationship between two or more non-stationary time series variables. This relationship is not about short-term movements or day-to-day correlations in returns but rather how these stocks move together over an extended period. Here are a few key points to consider:"
      ],
      "metadata": {
        "id": "5eYckzSzZWqp"
      }
    },
    {
      "cell_type": "code",
      "source": [
        "# Creating a loop to identify stocks that cointegrate\n",
        "columns = ['Stock1', 'Stock2', 'Beta']\n",
        "\n",
        "# Predefining empty dataframe to store the pairs of stocks and the corresponding beta\n",
        "Pairs = pd.DataFrame(columns=columns)\n",
        "\n",
        "for i in range(len(Prices.columns)):\n",
        "\n",
        "  # Embedded for loop to avoid duplicate pairs\n",
        "  for j in range(i+1,len(Prices.columns)):\n",
        "\n",
        "    stock1 = Prices.iloc[0:252,i]\n",
        "    stock2 = Prices.iloc[0:252,j]\n",
        "\n",
        "    returns1=stock1.pct_change()[1:]\n",
        "    returns2=stock2.pct_change()[1:]\n",
        "\n",
        "    correlation = np.corrcoef(returns1,returns2)[0,1]\n",
        "\n",
        "    if correlation > 0.6:\n",
        "     # Creating a regression model with NO INTERCEPT using the past 252 days of data\n",
        "      model = sm.OLS(stock1, stock2).fit()\n",
        "      beta = model.params[0]\n",
        "      residuals = model.resid\n",
        "\n",
        "      # Carrying out ADF stationarity test on the residuals of the linear model\n",
        "      result = sm.tsa.adfuller(residuals)\n",
        "      p_value = result[1]\n",
        "\n",
        "      # Storing the pairs of stocks IFF the residuals (price difference) are stationary\n",
        "      if p_value < 0.02:\n",
        "        new_row = {'Stock1': Prices.columns[i], 'Stock2': Prices.columns[j], 'Beta': beta}\n",
        "        Pairs = Pairs.append(new_row, ignore_index=True)"
      ],
      "metadata": {
        "id": "4htcyNpLn8DP"
      },
      "execution_count": null,
      "outputs": []
    },
    {
      "cell_type": "code",
      "source": [
        "Pairs.head()"
      ],
      "metadata": {
        "colab": {
          "base_uri": "https://localhost:8080/",
          "height": 206
        },
        "id": "IzceE43u9i40",
        "outputId": "5fc8a94e-d118-4be0-d380-855742a195a9"
      },
      "execution_count": 7,
      "outputs": [
        {
          "output_type": "execute_result",
          "data": {
            "text/plain": [
              "  Stock1 Stock2      Beta\n",
              "0      A    CCL  0.764573\n",
              "1      A    TER  2.045465\n",
              "2      A   TROW  0.561766\n",
              "3   AAPL   KLAC  0.407996\n",
              "4    ADI    ALB  0.625797"
            ],
            "text/html": [
              "\n",
              "  <div id=\"df-1b68f09a-7f51-4e96-b91d-61637aa6ade6\" class=\"colab-df-container\">\n",
              "    <div>\n",
              "<style scoped>\n",
              "    .dataframe tbody tr th:only-of-type {\n",
              "        vertical-align: middle;\n",
              "    }\n",
              "\n",
              "    .dataframe tbody tr th {\n",
              "        vertical-align: top;\n",
              "    }\n",
              "\n",
              "    .dataframe thead th {\n",
              "        text-align: right;\n",
              "    }\n",
              "</style>\n",
              "<table border=\"1\" class=\"dataframe\">\n",
              "  <thead>\n",
              "    <tr style=\"text-align: right;\">\n",
              "      <th></th>\n",
              "      <th>Stock1</th>\n",
              "      <th>Stock2</th>\n",
              "      <th>Beta</th>\n",
              "    </tr>\n",
              "  </thead>\n",
              "  <tbody>\n",
              "    <tr>\n",
              "      <th>0</th>\n",
              "      <td>A</td>\n",
              "      <td>CCL</td>\n",
              "      <td>0.764573</td>\n",
              "    </tr>\n",
              "    <tr>\n",
              "      <th>1</th>\n",
              "      <td>A</td>\n",
              "      <td>TER</td>\n",
              "      <td>2.045465</td>\n",
              "    </tr>\n",
              "    <tr>\n",
              "      <th>2</th>\n",
              "      <td>A</td>\n",
              "      <td>TROW</td>\n",
              "      <td>0.561766</td>\n",
              "    </tr>\n",
              "    <tr>\n",
              "      <th>3</th>\n",
              "      <td>AAPL</td>\n",
              "      <td>KLAC</td>\n",
              "      <td>0.407996</td>\n",
              "    </tr>\n",
              "    <tr>\n",
              "      <th>4</th>\n",
              "      <td>ADI</td>\n",
              "      <td>ALB</td>\n",
              "      <td>0.625797</td>\n",
              "    </tr>\n",
              "  </tbody>\n",
              "</table>\n",
              "</div>\n",
              "    <div class=\"colab-df-buttons\">\n",
              "\n",
              "  <div class=\"colab-df-container\">\n",
              "    <button class=\"colab-df-convert\" onclick=\"convertToInteractive('df-1b68f09a-7f51-4e96-b91d-61637aa6ade6')\"\n",
              "            title=\"Convert this dataframe to an interactive table.\"\n",
              "            style=\"display:none;\">\n",
              "\n",
              "  <svg xmlns=\"http://www.w3.org/2000/svg\" height=\"24px\" viewBox=\"0 -960 960 960\">\n",
              "    <path d=\"M120-120v-720h720v720H120Zm60-500h600v-160H180v160Zm220 220h160v-160H400v160Zm0 220h160v-160H400v160ZM180-400h160v-160H180v160Zm440 0h160v-160H620v160ZM180-180h160v-160H180v160Zm440 0h160v-160H620v160Z\"/>\n",
              "  </svg>\n",
              "    </button>\n",
              "\n",
              "  <style>\n",
              "    .colab-df-container {\n",
              "      display:flex;\n",
              "      gap: 12px;\n",
              "    }\n",
              "\n",
              "    .colab-df-convert {\n",
              "      background-color: #E8F0FE;\n",
              "      border: none;\n",
              "      border-radius: 50%;\n",
              "      cursor: pointer;\n",
              "      display: none;\n",
              "      fill: #1967D2;\n",
              "      height: 32px;\n",
              "      padding: 0 0 0 0;\n",
              "      width: 32px;\n",
              "    }\n",
              "\n",
              "    .colab-df-convert:hover {\n",
              "      background-color: #E2EBFA;\n",
              "      box-shadow: 0px 1px 2px rgba(60, 64, 67, 0.3), 0px 1px 3px 1px rgba(60, 64, 67, 0.15);\n",
              "      fill: #174EA6;\n",
              "    }\n",
              "\n",
              "    .colab-df-buttons div {\n",
              "      margin-bottom: 4px;\n",
              "    }\n",
              "\n",
              "    [theme=dark] .colab-df-convert {\n",
              "      background-color: #3B4455;\n",
              "      fill: #D2E3FC;\n",
              "    }\n",
              "\n",
              "    [theme=dark] .colab-df-convert:hover {\n",
              "      background-color: #434B5C;\n",
              "      box-shadow: 0px 1px 3px 1px rgba(0, 0, 0, 0.15);\n",
              "      filter: drop-shadow(0px 1px 2px rgba(0, 0, 0, 0.3));\n",
              "      fill: #FFFFFF;\n",
              "    }\n",
              "  </style>\n",
              "\n",
              "    <script>\n",
              "      const buttonEl =\n",
              "        document.querySelector('#df-1b68f09a-7f51-4e96-b91d-61637aa6ade6 button.colab-df-convert');\n",
              "      buttonEl.style.display =\n",
              "        google.colab.kernel.accessAllowed ? 'block' : 'none';\n",
              "\n",
              "      async function convertToInteractive(key) {\n",
              "        const element = document.querySelector('#df-1b68f09a-7f51-4e96-b91d-61637aa6ade6');\n",
              "        const dataTable =\n",
              "          await google.colab.kernel.invokeFunction('convertToInteractive',\n",
              "                                                    [key], {});\n",
              "        if (!dataTable) return;\n",
              "\n",
              "        const docLinkHtml = 'Like what you see? Visit the ' +\n",
              "          '<a target=\"_blank\" href=https://colab.research.google.com/notebooks/data_table.ipynb>data table notebook</a>'\n",
              "          + ' to learn more about interactive tables.';\n",
              "        element.innerHTML = '';\n",
              "        dataTable['output_type'] = 'display_data';\n",
              "        await google.colab.output.renderOutput(dataTable, element);\n",
              "        const docLink = document.createElement('div');\n",
              "        docLink.innerHTML = docLinkHtml;\n",
              "        element.appendChild(docLink);\n",
              "      }\n",
              "    </script>\n",
              "  </div>\n",
              "\n",
              "\n",
              "<div id=\"df-2558fd23-0885-413f-b91e-3e4aa5eadbc2\">\n",
              "  <button class=\"colab-df-quickchart\" onclick=\"quickchart('df-2558fd23-0885-413f-b91e-3e4aa5eadbc2')\"\n",
              "            title=\"Suggest charts.\"\n",
              "            style=\"display:none;\">\n",
              "\n",
              "<svg xmlns=\"http://www.w3.org/2000/svg\" height=\"24px\"viewBox=\"0 0 24 24\"\n",
              "     width=\"24px\">\n",
              "    <g>\n",
              "        <path d=\"M19 3H5c-1.1 0-2 .9-2 2v14c0 1.1.9 2 2 2h14c1.1 0 2-.9 2-2V5c0-1.1-.9-2-2-2zM9 17H7v-7h2v7zm4 0h-2V7h2v10zm4 0h-2v-4h2v4z\"/>\n",
              "    </g>\n",
              "</svg>\n",
              "  </button>\n",
              "\n",
              "<style>\n",
              "  .colab-df-quickchart {\n",
              "      --bg-color: #E8F0FE;\n",
              "      --fill-color: #1967D2;\n",
              "      --hover-bg-color: #E2EBFA;\n",
              "      --hover-fill-color: #174EA6;\n",
              "      --disabled-fill-color: #AAA;\n",
              "      --disabled-bg-color: #DDD;\n",
              "  }\n",
              "\n",
              "  [theme=dark] .colab-df-quickchart {\n",
              "      --bg-color: #3B4455;\n",
              "      --fill-color: #D2E3FC;\n",
              "      --hover-bg-color: #434B5C;\n",
              "      --hover-fill-color: #FFFFFF;\n",
              "      --disabled-bg-color: #3B4455;\n",
              "      --disabled-fill-color: #666;\n",
              "  }\n",
              "\n",
              "  .colab-df-quickchart {\n",
              "    background-color: var(--bg-color);\n",
              "    border: none;\n",
              "    border-radius: 50%;\n",
              "    cursor: pointer;\n",
              "    display: none;\n",
              "    fill: var(--fill-color);\n",
              "    height: 32px;\n",
              "    padding: 0;\n",
              "    width: 32px;\n",
              "  }\n",
              "\n",
              "  .colab-df-quickchart:hover {\n",
              "    background-color: var(--hover-bg-color);\n",
              "    box-shadow: 0 1px 2px rgba(60, 64, 67, 0.3), 0 1px 3px 1px rgba(60, 64, 67, 0.15);\n",
              "    fill: var(--button-hover-fill-color);\n",
              "  }\n",
              "\n",
              "  .colab-df-quickchart-complete:disabled,\n",
              "  .colab-df-quickchart-complete:disabled:hover {\n",
              "    background-color: var(--disabled-bg-color);\n",
              "    fill: var(--disabled-fill-color);\n",
              "    box-shadow: none;\n",
              "  }\n",
              "\n",
              "  .colab-df-spinner {\n",
              "    border: 2px solid var(--fill-color);\n",
              "    border-color: transparent;\n",
              "    border-bottom-color: var(--fill-color);\n",
              "    animation:\n",
              "      spin 1s steps(1) infinite;\n",
              "  }\n",
              "\n",
              "  @keyframes spin {\n",
              "    0% {\n",
              "      border-color: transparent;\n",
              "      border-bottom-color: var(--fill-color);\n",
              "      border-left-color: var(--fill-color);\n",
              "    }\n",
              "    20% {\n",
              "      border-color: transparent;\n",
              "      border-left-color: var(--fill-color);\n",
              "      border-top-color: var(--fill-color);\n",
              "    }\n",
              "    30% {\n",
              "      border-color: transparent;\n",
              "      border-left-color: var(--fill-color);\n",
              "      border-top-color: var(--fill-color);\n",
              "      border-right-color: var(--fill-color);\n",
              "    }\n",
              "    40% {\n",
              "      border-color: transparent;\n",
              "      border-right-color: var(--fill-color);\n",
              "      border-top-color: var(--fill-color);\n",
              "    }\n",
              "    60% {\n",
              "      border-color: transparent;\n",
              "      border-right-color: var(--fill-color);\n",
              "    }\n",
              "    80% {\n",
              "      border-color: transparent;\n",
              "      border-right-color: var(--fill-color);\n",
              "      border-bottom-color: var(--fill-color);\n",
              "    }\n",
              "    90% {\n",
              "      border-color: transparent;\n",
              "      border-bottom-color: var(--fill-color);\n",
              "    }\n",
              "  }\n",
              "</style>\n",
              "\n",
              "  <script>\n",
              "    async function quickchart(key) {\n",
              "      const quickchartButtonEl =\n",
              "        document.querySelector('#' + key + ' button');\n",
              "      quickchartButtonEl.disabled = true;  // To prevent multiple clicks.\n",
              "      quickchartButtonEl.classList.add('colab-df-spinner');\n",
              "      try {\n",
              "        const charts = await google.colab.kernel.invokeFunction(\n",
              "            'suggestCharts', [key], {});\n",
              "      } catch (error) {\n",
              "        console.error('Error during call to suggestCharts:', error);\n",
              "      }\n",
              "      quickchartButtonEl.classList.remove('colab-df-spinner');\n",
              "      quickchartButtonEl.classList.add('colab-df-quickchart-complete');\n",
              "    }\n",
              "    (() => {\n",
              "      let quickchartButtonEl =\n",
              "        document.querySelector('#df-2558fd23-0885-413f-b91e-3e4aa5eadbc2 button');\n",
              "      quickchartButtonEl.style.display =\n",
              "        google.colab.kernel.accessAllowed ? 'block' : 'none';\n",
              "    })();\n",
              "  </script>\n",
              "</div>\n",
              "    </div>\n",
              "  </div>\n"
            ]
          },
          "metadata": {},
          "execution_count": 7
        }
      ]
    },
    {
      "cell_type": "markdown",
      "source": [
        "### 2.3 Trading Strategy and Returns Calculation\n",
        "Now that we have obtained a set of pairs that are cointegrated, we can now formulate a trading strategy and backtest this to calculate historical returns of the strategy. Note that we have used data in 2010 (252 trading days) to identify these pairs, i.e. the training period. Therefore we must be careful not to trade during this period as this will result in hindsight bias and likely produce significantly high returns.\n",
        "\n",
        "In this cointegration strategy, we will not be testing for cointegration from 2011 through to end of 2019 and will only trade the pairs already identified using data in 2010. The next section will investigate the performance if we test for cointegration every year.\n",
        "\n",
        "Since pairs trading strategy is market-neutral and hence self-funding, we will assume both the long leg and short leg of the trade will have the exact same value. More specifically, we will assume that the manager has a £1,000,000 AUM and that each leg of the trade has a value of £10,000 (1% of AUM). For simplicity, we will also assume that the trader will rebalance the portfolio everyday such that both the long and short leg will have the same value at the start of each trading day. This means that the daily return will be calculated as $r_i = r_i^L - r_i^S$ where $r_i^L$ and $r_i^S$ are the daily returns on the long-leg and short-leg respectively.\n",
        "\n",
        "In this strategy, we will have no stop-loss and let open trades stay open until convergence. In cases of continued divergence, we will absorb all losses for now. We will implement stop-losses in following strategies.\n",
        "\n",
        "It is important to note that this is all theoretical as there are trading costs and other market frictions in the real-world."
      ],
      "metadata": {
        "id": "1in2hJClDITs"
      }
    },
    {
      "cell_type": "code",
      "source": [
        "# Defining a function which produces the returns for a given pair\n",
        "def pairs_returns(pair):\n",
        "  stock1, stock2, beta = pair\n",
        "\n",
        "  price1 = Prices[stock1]\n",
        "  price2 = Prices[stock2]\n",
        "\n",
        "  returns1 = price1.pct_change()\n",
        "  returns2 = price2.pct_change()\n",
        "\n",
        "  difference = price1 - beta*price2\n",
        "\n",
        "  # We will use the rolling mean and sd to generate the trading signal\n",
        "  mean = difference.rolling(window=252).mean()\n",
        "  sd = difference.rolling(window=252).std()\n",
        "\n",
        "  # if indicator = 1, then stock1 is overpriced relative to stock2 hence short stock1 and buy stock2\n",
        "  # if indicator = 0, do nothing\n",
        "  # if indicator = -1, then stock1 is underpriced relative to stock2 hence buy stock1 and short stock2\n",
        "\n",
        "  indicator = ((difference > mean + sd).astype(float) )- ((difference < mean -sd).astype(float))\n",
        "  indicator = indicator.shift()\n",
        "\n",
        "  returns = indicator[252:] * (returns2 - returns1)[252:]\n",
        "\n",
        "  return returns"
      ],
      "metadata": {
        "id": "OuV2suVS-lW4"
      },
      "execution_count": 8,
      "outputs": []
    },
    {
      "cell_type": "code",
      "source": [
        "returns = 0\n",
        "for i in range(Pairs.shape[0]):\n",
        "  row = Pairs.iloc[i,:]\n",
        "  returns += pairs_returns(row)\n",
        "\n",
        "# Divide by 100 as each trade is 1% of the AUM\n",
        "returns = returns/100"
      ],
      "metadata": {
        "id": "XTklifIYUwa_"
      },
      "execution_count": 9,
      "outputs": []
    },
    {
      "cell_type": "markdown",
      "source": [
        "### 2.4 Performance and Analysis\n",
        "To investigate the performance of the strategy, we will plot the cumulative returns over time to identify periods where the strategy performs well. Additionally, we will regress the strategy returns against the SP500 returns to estimate the alpha and beta of the strategy.\n"
      ],
      "metadata": {
        "id": "v6vV61PZNGhk"
      }
    },
    {
      "cell_type": "code",
      "source": [
        "Dates =  pd.to_datetime(Prices.iloc[252:,:].index)"
      ],
      "metadata": {
        "id": "yUPIRslVWybD"
      },
      "execution_count": null,
      "outputs": []
    },
    {
      "cell_type": "code",
      "source": [
        "# Calculate cumulative returns\n",
        "cum_returns = (1 + returns).cumprod() - 1\n",
        "\n",
        "# Plot cumulative returns\n",
        "plt.figure(figsize=(10, 6))\n",
        "plt.plot(Dates, cum_returns, linestyle='-', color='b', label='Cumulative Returns')\n",
        "plt.xlabel('Date')\n",
        "plt.ylabel('Cumulative Returns')\n",
        "plt.title('Cumulative Returns Plot')\n",
        "\n",
        "# Change tick frequency to display only years\n",
        "ax = plt.gca()\n",
        "ax.xaxis.set_major_locator(YearLocator())\n",
        "ax.xaxis.set_major_formatter(DateFormatter(\"%Y\"))\n",
        "\n",
        "plt.grid(True)\n",
        "plt.legend()\n",
        "plt.show()"
      ],
      "metadata": {
        "colab": {
          "base_uri": "https://localhost:8080/",
          "height": 564
        },
        "id": "Dsa6lBA7WjJ-",
        "outputId": "a27b7bad-eb35-4d1c-8219-5375acd0419b"
      },
      "execution_count": 30,
      "outputs": [
        {
          "output_type": "display_data",
          "data": {
            "text/plain": [
              "<Figure size 1000x600 with 1 Axes>"
            ],
            "image/png": "[encoded data removed]"
          },
          "metadata": {}
        }
      ]
    },
    {
      "cell_type": "code",
      "source": [
        "# Perform regression analysis to calculate alpha and beta\n",
        "X = sm.add_constant(sp500_returns[1:])\n",
        "y = list(returns[1:])\n",
        "model = sm.OLS(y, X).fit()\n",
        "\n",
        "alpha = model.params['const']\n",
        "beta = model.params['Adj Close']\n",
        "\n",
        "# Print alpha and beta\n",
        "print(f'Alpha: {alpha:.4f}')\n",
        "print(f'Beta: {beta:.4f}')"
      ],
      "metadata": {
        "colab": {
          "base_uri": "https://localhost:8080/"
        },
        "id": "kXrsB8b_Xw9j",
        "outputId": "5067fbe6-5440-4661-81ac-1bf92bcc2fa7"
      },
      "execution_count": 43,
      "outputs": [
        {
          "output_type": "stream",
          "name": "stdout",
          "text": [
            "Alpha: 0.0001\n",
            "Beta: 0.0604\n"
          ]
        }
      ]
    },
    {
      "cell_type": "markdown",
      "source": [
        "## 3 Cointegration Approach: Annual Cointegration and Stop-Loss Implementation\n",
        "One of the drawbacks of the Strategy 1 is that the cointegrating pairs are selected in the first year of the data and are used for trading in the following 9 years. A better approach could be to test for cointegration annually and update the set of cointegrating pairs that we are trading each year. This means we can remove pairs with structural breaks that are no long cointegrating. It is likely that the these pairs are causing significant losses.\n"
      ],
      "metadata": {
        "id": "K-PWszuLFPKi"
      }
    },
    {
      "cell_type": "markdown",
      "source": [
        "### 3.1 Identifying Cointegrating Pairs Annually\n",
        "The first step is to identify the cointegrating pairs annually. We will use the same method of testing for cointegration as Strategy 1 but repeat this for each year."
      ],
      "metadata": {
        "id": "WCZSpvzrOc_X"
      }
    },
    {
      "cell_type": "code",
      "source": [
        "Prices = pd.read_csv(\"price.csv\", index_col=0)\n",
        "Prices = Prices.dropna(axis=1)"
      ],
      "metadata": {
        "id": "denZ-85SVM6Y"
      },
      "execution_count": 44,
      "outputs": []
    },
    {
      "cell_type": "code",
      "source": [
        "#Prices = Prices.iloc[:1250,:300]"
      ],
      "metadata": {
        "id": "pJLgMZz2YQYv"
      },
      "execution_count": 12,
      "outputs": []
    },
    {
      "cell_type": "code",
      "source": [
        "Dates = Prices.index"
      ],
      "metadata": {
        "id": "0Qp_YwzYUnqu"
      },
      "execution_count": 45,
      "outputs": []
    },
    {
      "cell_type": "code",
      "source": [
        "from datetime import datetime\n",
        "# Extract the year from the dates\n",
        "years = np.array([np.datetime64(date).item().year for date in Dates.values])"
      ],
      "metadata": {
        "id": "BFEJL6Z9U5Pm"
      },
      "execution_count": 46,
      "outputs": []
    },
    {
      "cell_type": "code",
      "source": [
        "Prices['Year'] = years"
      ],
      "metadata": {
        "id": "yz4BQ201VrEf"
      },
      "execution_count": 47,
      "outputs": []
    },
    {
      "cell_type": "code",
      "source": [
        "# Creating a loop to identify stocks that cointegrate\n",
        "columns = ['Year', 'Stock1', 'Stock2', 'Beta', 'p-value', 'correlation']\n",
        "\n",
        "# Predefining empty dataframe to store the pairs of stocks and the corresponding beta\n",
        "Pairs = pd.DataFrame(columns=columns)\n",
        "\n",
        "for i in range(len(Prices.columns)):\n",
        "\n",
        "  # Embedded for loop to avoid duplicate pairs\n",
        "  for j in range(i+1,len(Prices.columns)):\n",
        "\n",
        "    for year in np.unique(years):\n",
        "\n",
        "      stock1 = Prices[Prices['Year'] == year].iloc[:,i]\n",
        "      stock2 = Prices[Prices['Year'] == year].iloc[:,j]\n",
        "\n",
        "      returns1=stock1.pct_change()[1:]\n",
        "      returns2=stock2.pct_change()[1:]\n",
        "\n",
        "      correlation = np.corrcoef(returns1,returns2)[0,1]\n",
        "\n",
        "      # To improve efficiency, we will only cointegrate if the correlation is at least 0.9\n",
        "      if correlation > 0.6:\n",
        "\n",
        "        # Creating a regression model with NO INTERCEPT using the past 252 days of data\n",
        "        model = sm.OLS(stock1, stock2).fit()\n",
        "        beta = model.params[0]\n",
        "        residuals = model.resid\n",
        "\n",
        "        # Carrying out ADF stationarity test on the residuals of the linear model\n",
        "        result = sm.tsa.adfuller(residuals)\n",
        "        p_value = result[1]\n",
        "\n",
        "        # Storing the pairs of stocks IFF the residuals (price difference) are stationary\n",
        "        if p_value < 0.02:\n",
        "          new_row = {'Year': year, 'Stock1': Prices.columns[i], 'Stock2': Prices.columns[j], 'Beta': beta, 'p-value': p_value, 'correlation': correlation}\n",
        "          Pairs = Pairs.append(new_row, ignore_index=True)"
      ],
      "metadata": {
        "id": "n1fJV9lqO3us"
      },
      "execution_count": null,
      "outputs": []
    },
    {
      "cell_type": "code",
      "source": [
        "Pairs"
      ],
      "metadata": {
        "colab": {
          "base_uri": "https://localhost:8080/",
          "height": 423
        },
        "id": "4rV-lLXPahCM",
        "outputId": "40dec4ab-e6c4-47ec-bf47-98e896031870"
      },
      "execution_count": 49,
      "outputs": [
        {
          "output_type": "execute_result",
          "data": {
            "text/plain": [
              "      Year Stock1 Stock2      Beta   p-value  correlation\n",
              "0     2011      A    AIG  1.049007  0.018492     0.680857\n",
              "1     2010      A    CCL  0.764573  0.002770     0.680549\n",
              "2     2010      A    TER  2.045465  0.004527     0.626445\n",
              "3     2010      A   TROW  0.561766  0.014267     0.684458\n",
              "4     2015    AAL    UAL  0.717178  0.015241     0.789329\n",
              "...    ...    ...    ...       ...       ...          ...\n",
              "2482  2015    WAT    WFC  2.804945  0.010612     0.669791\n",
              "2483  2018    WEC    XEL  1.365985  0.009663     0.928174\n",
              "2484  2010    WFC   ZION  1.080414  0.006489     0.695437\n",
              "2485  2011    WMB    WRB  1.327040  0.004831     0.615867\n",
              "2486  2010    WMB    XOM  0.231979  0.014342     0.709516\n",
              "\n",
              "[2487 rows x 6 columns]"
            ],
            "text/html": [
              "\n",
              "  <div id=\"df-674fcea4-88e5-41ee-b9a0-b8d7698aee55\" class=\"colab-df-container\">\n",
              "    <div>\n",
              "<style scoped>\n",
              "    .dataframe tbody tr th:only-of-type {\n",
              "        vertical-align: middle;\n",
              "    }\n",
              "\n",
              "    .dataframe tbody tr th {\n",
              "        vertical-align: top;\n",
              "    }\n",
              "\n",
              "    .dataframe thead th {\n",
              "        text-align: right;\n",
              "    }\n",
              "</style>\n",
              "<table border=\"1\" class=\"dataframe\">\n",
              "  <thead>\n",
              "    <tr style=\"text-align: right;\">\n",
              "      <th></th>\n",
              "      <th>Year</th>\n",
              "      <th>Stock1</th>\n",
              "      <th>Stock2</th>\n",
              "      <th>Beta</th>\n",
              "      <th>p-value</th>\n",
              "      <th>correlation</th>\n",
              "    </tr>\n",
              "  </thead>\n",
              "  <tbody>\n",
              "    <tr>\n",
              "      <th>0</th>\n",
              "      <td>2011</td>\n",
              "      <td>A</td>\n",
              "      <td>AIG</td>\n",
              "      <td>1.049007</td>\n",
              "      <td>0.018492</td>\n",
              "      <td>0.680857</td>\n",
              "    </tr>\n",
              "    <tr>\n",
              "      <th>1</th>\n",
              "      <td>2010</td>\n",
              "      <td>A</td>\n",
              "      <td>CCL</td>\n",
              "      <td>0.764573</td>\n",
              "      <td>0.002770</td>\n",
              "      <td>0.680549</td>\n",
              "    </tr>\n",
              "    <tr>\n",
              "      <th>2</th>\n",
              "      <td>2010</td>\n",
              "      <td>A</td>\n",
              "      <td>TER</td>\n",
              "      <td>2.045465</td>\n",
              "      <td>0.004527</td>\n",
              "      <td>0.626445</td>\n",
              "    </tr>\n",
              "    <tr>\n",
              "      <th>3</th>\n",
              "      <td>2010</td>\n",
              "      <td>A</td>\n",
              "      <td>TROW</td>\n",
              "      <td>0.561766</td>\n",
              "      <td>0.014267</td>\n",
              "      <td>0.684458</td>\n",
              "    </tr>\n",
              "    <tr>\n",
              "      <th>4</th>\n",
              "      <td>2015</td>\n",
              "      <td>AAL</td>\n",
              "      <td>UAL</td>\n",
              "      <td>0.717178</td>\n",
              "      <td>0.015241</td>\n",
              "      <td>0.789329</td>\n",
              "    </tr>\n",
              "    <tr>\n",
              "      <th>...</th>\n",
              "      <td>...</td>\n",
              "      <td>...</td>\n",
              "      <td>...</td>\n",
              "      <td>...</td>\n",
              "      <td>...</td>\n",
              "      <td>...</td>\n",
              "    </tr>\n",
              "    <tr>\n",
              "      <th>2482</th>\n",
              "      <td>2015</td>\n",
              "      <td>WAT</td>\n",
              "      <td>WFC</td>\n",
              "      <td>2.804945</td>\n",
              "      <td>0.010612</td>\n",
              "      <td>0.669791</td>\n",
              "    </tr>\n",
              "    <tr>\n",
              "      <th>2483</th>\n",
              "      <td>2018</td>\n",
              "      <td>WEC</td>\n",
              "      <td>XEL</td>\n",
              "      <td>1.365985</td>\n",
              "      <td>0.009663</td>\n",
              "      <td>0.928174</td>\n",
              "    </tr>\n",
              "    <tr>\n",
              "      <th>2484</th>\n",
              "      <td>2010</td>\n",
              "      <td>WFC</td>\n",
              "      <td>ZION</td>\n",
              "      <td>1.080414</td>\n",
              "      <td>0.006489</td>\n",
              "      <td>0.695437</td>\n",
              "    </tr>\n",
              "    <tr>\n",
              "      <th>2485</th>\n",
              "      <td>2011</td>\n",
              "      <td>WMB</td>\n",
              "      <td>WRB</td>\n",
              "      <td>1.327040</td>\n",
              "      <td>0.004831</td>\n",
              "      <td>0.615867</td>\n",
              "    </tr>\n",
              "    <tr>\n",
              "      <th>2486</th>\n",
              "      <td>2010</td>\n",
              "      <td>WMB</td>\n",
              "      <td>XOM</td>\n",
              "      <td>0.231979</td>\n",
              "      <td>0.014342</td>\n",
              "      <td>0.709516</td>\n",
              "    </tr>\n",
              "  </tbody>\n",
              "</table>\n",
              "<p>2487 rows × 6 columns</p>\n",
              "</div>\n",
              "    <div class=\"colab-df-buttons\">\n",
              "\n",
              "  <div class=\"colab-df-container\">\n",
              "    <button class=\"colab-df-convert\" onclick=\"convertToInteractive('df-674fcea4-88e5-41ee-b9a0-b8d7698aee55')\"\n",
              "            title=\"Convert this dataframe to an interactive table.\"\n",
              "            style=\"display:none;\">\n",
              "\n",
              "  <svg xmlns=\"http://www.w3.org/2000/svg\" height=\"24px\" viewBox=\"0 -960 960 960\">\n",
              "    <path d=\"M120-120v-720h720v720H120Zm60-500h600v-160H180v160Zm220 220h160v-160H400v160Zm0 220h160v-160H400v160ZM180-400h160v-160H180v160Zm440 0h160v-160H620v160ZM180-180h160v-160H180v160Zm440 0h160v-160H620v160Z\"/>\n",
              "  </svg>\n",
              "    </button>\n",
              "\n",
              "  <style>\n",
              "    .colab-df-container {\n",
              "      display:flex;\n",
              "      gap: 12px;\n",
              "    }\n",
              "\n",
              "    .colab-df-convert {\n",
              "      background-color: #E8F0FE;\n",
              "      border: none;\n",
              "      border-radius: 50%;\n",
              "      cursor: pointer;\n",
              "      display: none;\n",
              "      fill: #1967D2;\n",
              "      height: 32px;\n",
              "      padding: 0 0 0 0;\n",
              "      width: 32px;\n",
              "    }\n",
              "\n",
              "    .colab-df-convert:hover {\n",
              "      background-color: #E2EBFA;\n",
              "      box-shadow: 0px 1px 2px rgba(60, 64, 67, 0.3), 0px 1px 3px 1px rgba(60, 64, 67, 0.15);\n",
              "      fill: #174EA6;\n",
              "    }\n",
              "\n",
              "    .colab-df-buttons div {\n",
              "      margin-bottom: 4px;\n",
              "    }\n",
              "\n",
              "    [theme=dark] .colab-df-convert {\n",
              "      background-color: #3B4455;\n",
              "      fill: #D2E3FC;\n",
              "    }\n",
              "\n",
              "    [theme=dark] .colab-df-convert:hover {\n",
              "      background-color: #434B5C;\n",
              "      box-shadow: 0px 1px 3px 1px rgba(0, 0, 0, 0.15);\n",
              "      filter: drop-shadow(0px 1px 2px rgba(0, 0, 0, 0.3));\n",
              "      fill: #FFFFFF;\n",
              "    }\n",
              "  </style>\n",
              "\n",
              "    <script>\n",
              "      const buttonEl =\n",
              "        document.querySelector('#df-674fcea4-88e5-41ee-b9a0-b8d7698aee55 button.colab-df-convert');\n",
              "      buttonEl.style.display =\n",
              "        google.colab.kernel.accessAllowed ? 'block' : 'none';\n",
              "\n",
              "      async function convertToInteractive(key) {\n",
              "        const element = document.querySelector('#df-674fcea4-88e5-41ee-b9a0-b8d7698aee55');\n",
              "        const dataTable =\n",
              "          await google.colab.kernel.invokeFunction('convertToInteractive',\n",
              "                                                    [key], {});\n",
              "        if (!dataTable) return;\n",
              "\n",
              "        const docLinkHtml = 'Like what you see? Visit the ' +\n",
              "          '<a target=\"_blank\" href=https://colab.research.google.com/notebooks/data_table.ipynb>data table notebook</a>'\n",
              "          + ' to learn more about interactive tables.';\n",
              "        element.innerHTML = '';\n",
              "        dataTable['output_type'] = 'display_data';\n",
              "        await google.colab.output.renderOutput(dataTable, element);\n",
              "        const docLink = document.createElement('div');\n",
              "        docLink.innerHTML = docLinkHtml;\n",
              "        element.appendChild(docLink);\n",
              "      }\n",
              "    </script>\n",
              "  </div>\n",
              "\n",
              "\n",
              "<div id=\"df-33a398a0-05ff-427f-abe4-a87d8346f56f\">\n",
              "  <button class=\"colab-df-quickchart\" onclick=\"quickchart('df-33a398a0-05ff-427f-abe4-a87d8346f56f')\"\n",
              "            title=\"Suggest charts.\"\n",
              "            style=\"display:none;\">\n",
              "\n",
              "<svg xmlns=\"http://www.w3.org/2000/svg\" height=\"24px\"viewBox=\"0 0 24 24\"\n",
              "     width=\"24px\">\n",
              "    <g>\n",
              "        <path d=\"M19 3H5c-1.1 0-2 .9-2 2v14c0 1.1.9 2 2 2h14c1.1 0 2-.9 2-2V5c0-1.1-.9-2-2-2zM9 17H7v-7h2v7zm4 0h-2V7h2v10zm4 0h-2v-4h2v4z\"/>\n",
              "    </g>\n",
              "</svg>\n",
              "  </button>\n",
              "\n",
              "<style>\n",
              "  .colab-df-quickchart {\n",
              "      --bg-color: #E8F0FE;\n",
              "      --fill-color: #1967D2;\n",
              "      --hover-bg-color: #E2EBFA;\n",
              "      --hover-fill-color: #174EA6;\n",
              "      --disabled-fill-color: #AAA;\n",
              "      --disabled-bg-color: #DDD;\n",
              "  }\n",
              "\n",
              "  [theme=dark] .colab-df-quickchart {\n",
              "      --bg-color: #3B4455;\n",
              "      --fill-color: #D2E3FC;\n",
              "      --hover-bg-color: #434B5C;\n",
              "      --hover-fill-color: #FFFFFF;\n",
              "      --disabled-bg-color: #3B4455;\n",
              "      --disabled-fill-color: #666;\n",
              "  }\n",
              "\n",
              "  .colab-df-quickchart {\n",
              "    background-color: var(--bg-color);\n",
              "    border: none;\n",
              "    border-radius: 50%;\n",
              "    cursor: pointer;\n",
              "    display: none;\n",
              "    fill: var(--fill-color);\n",
              "    height: 32px;\n",
              "    padding: 0;\n",
              "    width: 32px;\n",
              "  }\n",
              "\n",
              "  .colab-df-quickchart:hover {\n",
              "    background-color: var(--hover-bg-color);\n",
              "    box-shadow: 0 1px 2px rgba(60, 64, 67, 0.3), 0 1px 3px 1px rgba(60, 64, 67, 0.15);\n",
              "    fill: var(--button-hover-fill-color);\n",
              "  }\n",
              "\n",
              "  .colab-df-quickchart-complete:disabled,\n",
              "  .colab-df-quickchart-complete:disabled:hover {\n",
              "    background-color: var(--disabled-bg-color);\n",
              "    fill: var(--disabled-fill-color);\n",
              "    box-shadow: none;\n",
              "  }\n",
              "\n",
              "  .colab-df-spinner {\n",
              "    border: 2px solid var(--fill-color);\n",
              "    border-color: transparent;\n",
              "    border-bottom-color: var(--fill-color);\n",
              "    animation:\n",
              "      spin 1s steps(1) infinite;\n",
              "  }\n",
              "\n",
              "  @keyframes spin {\n",
              "    0% {\n",
              "      border-color: transparent;\n",
              "      border-bottom-color: var(--fill-color);\n",
              "      border-left-color: var(--fill-color);\n",
              "    }\n",
              "    20% {\n",
              "      border-color: transparent;\n",
              "      border-left-color: var(--fill-color);\n",
              "      border-top-color: var(--fill-color);\n",
              "    }\n",
              "    30% {\n",
              "      border-color: transparent;\n",
              "      border-left-color: var(--fill-color);\n",
              "      border-top-color: var(--fill-color);\n",
              "      border-right-color: var(--fill-color);\n",
              "    }\n",
              "    40% {\n",
              "      border-color: transparent;\n",
              "      border-right-color: var(--fill-color);\n",
              "      border-top-color: var(--fill-color);\n",
              "    }\n",
              "    60% {\n",
              "      border-color: transparent;\n",
              "      border-right-color: var(--fill-color);\n",
              "    }\n",
              "    80% {\n",
              "      border-color: transparent;\n",
              "      border-right-color: var(--fill-color);\n",
              "      border-bottom-color: var(--fill-color);\n",
              "    }\n",
              "    90% {\n",
              "      border-color: transparent;\n",
              "      border-bottom-color: var(--fill-color);\n",
              "    }\n",
              "  }\n",
              "</style>\n",
              "\n",
              "  <script>\n",
              "    async function quickchart(key) {\n",
              "      const quickchartButtonEl =\n",
              "        document.querySelector('#' + key + ' button');\n",
              "      quickchartButtonEl.disabled = true;  // To prevent multiple clicks.\n",
              "      quickchartButtonEl.classList.add('colab-df-spinner');\n",
              "      try {\n",
              "        const charts = await google.colab.kernel.invokeFunction(\n",
              "            'suggestCharts', [key], {});\n",
              "      } catch (error) {\n",
              "        console.error('Error during call to suggestCharts:', error);\n",
              "      }\n",
              "      quickchartButtonEl.classList.remove('colab-df-spinner');\n",
              "      quickchartButtonEl.classList.add('colab-df-quickchart-complete');\n",
              "    }\n",
              "    (() => {\n",
              "      let quickchartButtonEl =\n",
              "        document.querySelector('#df-33a398a0-05ff-427f-abe4-a87d8346f56f button');\n",
              "      quickchartButtonEl.style.display =\n",
              "        google.colab.kernel.accessAllowed ? 'block' : 'none';\n",
              "    })();\n",
              "  </script>\n",
              "</div>\n",
              "    </div>\n",
              "  </div>\n"
            ]
          },
          "metadata": {},
          "execution_count": 49
        }
      ]
    },
    {
      "cell_type": "markdown",
      "source": [
        "### 3.2 Calculating Strategy Returns and Implementing a Stop-loss\n",
        "Another major drawback of Strategy 1 is that trades remain open until convergence. It is possible for certain pairs with structural breaks to continue diverging and hence incur huge losses. I have decided to set a stop-loss at 3 standard deviations away from the mean price difference."
      ],
      "metadata": {
        "id": "hguQ0xT1QlhF"
      }
    },
    {
      "cell_type": "code",
      "source": [
        "# Defining a function which produces the returns for a given pair\n",
        "def pairs_returns(pair):\n",
        "  year, stock1, stock2, beta, p_value, correlation = pair\n",
        "\n",
        "  price1 = Prices[stock1]\n",
        "  price2 = Prices[stock2]\n",
        "\n",
        "  returns1 = price1.pct_change()[Prices['Year'] == year+1]\n",
        "  returns2 = price2.pct_change()[Prices['Year'] == year+1]\n",
        "\n",
        "  difference = price1 - beta*price2\n",
        "\n",
        "  mean = difference.rolling(window=251).mean()\n",
        "  sd = difference.rolling(window=251).std()\n",
        "\n",
        "  # if indicator = 1, then stock1 is overpriced relative to stock2 hence short stock1 and buy stock2\n",
        "  # if indicator = 0, do nothing\n",
        "  # if indicator = -1, then stock1 is underpriced relative to stock2 hence buy stock1 and short stock2\n",
        "\n",
        "  indicator = ((difference > mean + sd).astype(float)) - ((difference > mean+3*sd).astype(float))  - ((difference < mean -sd).astype(float)) +((difference < mean -3*sd).astype(float))\n",
        "  indicator = indicator.shift()[Prices['Year'] == year+1]\n",
        "\n",
        "  returns = indicator * (returns2 - returns1)\n",
        "\n",
        "  return returns"
      ],
      "metadata": {
        "id": "cHGxBICziNnc"
      },
      "execution_count": 50,
      "outputs": []
    },
    {
      "cell_type": "code",
      "source": [
        "total_returns = []\n",
        "for year in np.unique(years):\n",
        "\n",
        "  annual_returns = 0\n",
        "\n",
        "  for i in range(Pairs[Pairs['Year'] == year].shape[0]):\n",
        "\n",
        "    row = Pairs[Pairs['Year'] == year].iloc[i,:]\n",
        "    annual_returns += pairs_returns(row)\n",
        "\n",
        "  total_returns = np.concatenate((total_returns, annual_returns))"
      ],
      "metadata": {
        "id": "v9bzDMmOii1N"
      },
      "execution_count": 51,
      "outputs": []
    },
    {
      "cell_type": "code",
      "source": [
        "total_returns.shape"
      ],
      "metadata": {
        "colab": {
          "base_uri": "https://localhost:8080/"
        },
        "id": "JvOS5IXSxXyH",
        "outputId": "36a6f392-88af-4295-de6d-40b009c33276"
      },
      "execution_count": 52,
      "outputs": [
        {
          "output_type": "execute_result",
          "data": {
            "text/plain": [
              "(2263,)"
            ]
          },
          "metadata": {},
          "execution_count": 52
        }
      ]
    },
    {
      "cell_type": "code",
      "source": [
        "Dates =  pd.to_datetime(Prices[Prices['Year']!=2010].index)\n",
        "Dates.shape"
      ],
      "metadata": {
        "colab": {
          "base_uri": "https://localhost:8080/"
        },
        "id": "kUJuXP5prv0T",
        "outputId": "69157935-40e8-4b5a-daff-6fc53bedf54c"
      },
      "execution_count": 53,
      "outputs": [
        {
          "output_type": "execute_result",
          "data": {
            "text/plain": [
              "(2263,)"
            ]
          },
          "metadata": {},
          "execution_count": 53
        }
      ]
    },
    {
      "cell_type": "code",
      "source": [
        "annual_returns_new = total_returns /100"
      ],
      "metadata": {
        "id": "gW6OT-LHqQW-"
      },
      "execution_count": 64,
      "outputs": []
    },
    {
      "cell_type": "markdown",
      "source": [
        "### 3.3 Performance and Analysis\n"
      ],
      "metadata": {
        "id": "7rbPXQz9v0Zx"
      }
    },
    {
      "cell_type": "code",
      "source": [
        "# Calculate cumulative returns\n",
        "cum_returns = (1 + annual_returns_new).cumprod() - 1\n",
        "\n",
        "# Plot cumulative returns\n",
        "plt.figure(figsize=(10, 6))\n",
        "plt.plot(\n",
        "Dates, cum_returns, linestyle='-', color='b', label='Cumulative Returns')\n",
        "plt.xlabel('Date')\n",
        "plt.ylabel('Cumulative Returns')\n",
        "plt.title('Cumulative Returns Plot')\n",
        "\n",
        "# Change tick frequency to display only years\n",
        "ax = plt.gca()\n",
        "ax.xaxis.set_major_locator(YearLocator())\n",
        "ax.xaxis.set_major_formatter(DateFormatter(\"%Y\"))\n",
        "\n",
        "plt.grid(True)\n",
        "plt.legend()\n",
        "plt.show()"
      ],
      "metadata": {
        "colab": {
          "base_uri": "https://localhost:8080/",
          "height": 564
        },
        "id": "MwBCw4gIwbrm",
        "outputId": "55f999da-4e2d-458a-a241-1a9b9aaa2416"
      },
      "execution_count": 65,
      "outputs": [
        {
          "output_type": "display_data",
          "data": {
            "text/plain": [
              "<Figure size 1000x600 with 1 Axes>"
            ],
            "image/png": "[encoded data removed]"
          },
          "metadata": {}
        }
      ]
    },
    {
      "cell_type": "code",
      "source": [
        "strategy_returns = pd.DataFrame({'Date': Dates, 'Returns': annual_returns_new })"
      ],
      "metadata": {
        "id": "SDZfG5N6sgNN"
      },
      "execution_count": 66,
      "outputs": []
    },
    {
      "cell_type": "code",
      "source": [
        "# Convert the 'Date' column to a datetime data type\n",
        "strategy_returns['Date'] = pd.to_datetime(strategy_returns['Date'])\n",
        "\n",
        "# Set 'Date' as the index\n",
        "strategy_returns.set_index('Date', inplace=True)\n",
        "\n",
        "# Calculate key performance metrics using pyfolio\n",
        "returns = strategy_returns['Returns']"
      ],
      "metadata": {
        "id": "Hq5qCPugtQ9A"
      },
      "execution_count": 67,
      "outputs": []
    },
    {
      "cell_type": "code",
      "source": [
        "# Perform regression analysis to calculate alpha and beta\n",
        "X = sm.add_constant(sp500_returns[1:])\n",
        "y = returns[1:]\n",
        "model = sm.OLS(y, X).fit()\n",
        "\n",
        "alpha = model.params['const']\n",
        "beta = model.params['Adj Close']\n",
        "\n",
        "# Print alpha and beta\n",
        "print(f'Alpha: {alpha:.4f}')\n",
        "print(f'Beta: {beta:.4f}')"
      ],
      "metadata": {
        "colab": {
          "base_uri": "https://localhost:8080/"
        },
        "id": "fAU-fg1cw_77",
        "outputId": "d9802992-d85f-4e8e-ea4d-0de99bdf5ae5"
      },
      "execution_count": 68,
      "outputs": [
        {
          "output_type": "stream",
          "name": "stdout",
          "text": [
            "Alpha: 0.0003\n",
            "Beta: 0.1802\n"
          ]
        }
      ]
    },
    {
      "cell_type": "markdown",
      "source": [
        "# IDEAS\n",
        "Consider weighting each pair based on how strongly they cointegrate.\n",
        "\n",
        "Johansen Cointegration test for multi-assets trading rather than just pairs."
      ],
      "metadata": {
        "id": "1t5hH6t6Nf6l"
      }
    }
  ]
}